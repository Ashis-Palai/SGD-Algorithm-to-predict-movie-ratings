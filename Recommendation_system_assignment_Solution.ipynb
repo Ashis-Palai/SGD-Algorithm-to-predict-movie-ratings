{
  "nbformat": 4,
  "nbformat_minor": 0,
  "metadata": {
    "colab": {
      "provenance": [],
      "collapsed_sections": [],
      "include_colab_link": true
    },
    "kernelspec": {
      "display_name": "Python 3",
      "language": "python",
      "name": "python3"
    },
    "language_info": {
      "codemirror_mode": {
        "name": "ipython",
        "version": 3
      },
      "file_extension": ".py",
      "mimetype": "text/x-python",
      "name": "python",
      "nbconvert_exporter": "python",
      "pygments_lexer": "ipython3",
      "version": "3.6.3"
    }
  },
  "cells": [
    {
      "cell_type": "markdown",
      "metadata": {
        "id": "view-in-github",
        "colab_type": "text"
      },
      "source": [
        "<a href=\"https://colab.research.google.com/github/Ashis-Palai/SGD-Algorithm-to-predict-movie-ratings/blob/main/Recommendation_system_assignment_Solution.ipynb\" target=\"_parent\"><img src=\"https://colab.research.google.com/assets/colab-badge.svg\" alt=\"Open In Colab\"/></a>"
      ]
    },
    {
      "cell_type": "markdown",
      "metadata": {
        "id": "YeM0ZBWUVtXR"
      },
      "source": [
        "# <font color='dark red'>SGD Algorithm to predict movie ratings</font>"
      ]
    },
    {
      "cell_type": "code",
      "metadata": {
        "colab": {
          "base_uri": "https://localhost:8080/",
          "height": 241
        },
        "id": "hEhmfRD637EW",
        "outputId": "3ac04cbd-6696-4d4c-fc7f-5024a9f9544b"
      },
      "source": [
        "import pandas as pd\n",
        "data=pd.read_csv('/content/ratings_train.csv')\n",
        "\n",
        "print('shape of data is:',data.shape)\n",
        "print('*'*30)\n",
        "data.head()\n"
      ],
      "execution_count": null,
      "outputs": [
        {
          "output_type": "stream",
          "name": "stdout",
          "text": [
            "shape of data is: (89992, 3)\n",
            "******************************\n"
          ]
        },
        {
          "output_type": "execute_result",
          "data": {
            "text/plain": [
              "   user_id  item_id  rating\n",
              "0      772       36       3\n",
              "1      471      228       5\n",
              "2      641      401       4\n",
              "3      312       98       4\n",
              "4       58      504       5"
            ],
            "text/html": [
              "\n",
              "  <div id=\"df-d227c3e0-e764-480e-9847-d0b44c81828a\">\n",
              "    <div class=\"colab-df-container\">\n",
              "      <div>\n",
              "<style scoped>\n",
              "    .dataframe tbody tr th:only-of-type {\n",
              "        vertical-align: middle;\n",
              "    }\n",
              "\n",
              "    .dataframe tbody tr th {\n",
              "        vertical-align: top;\n",
              "    }\n",
              "\n",
              "    .dataframe thead th {\n",
              "        text-align: right;\n",
              "    }\n",
              "</style>\n",
              "<table border=\"1\" class=\"dataframe\">\n",
              "  <thead>\n",
              "    <tr style=\"text-align: right;\">\n",
              "      <th></th>\n",
              "      <th>user_id</th>\n",
              "      <th>item_id</th>\n",
              "      <th>rating</th>\n",
              "    </tr>\n",
              "  </thead>\n",
              "  <tbody>\n",
              "    <tr>\n",
              "      <th>0</th>\n",
              "      <td>772</td>\n",
              "      <td>36</td>\n",
              "      <td>3</td>\n",
              "    </tr>\n",
              "    <tr>\n",
              "      <th>1</th>\n",
              "      <td>471</td>\n",
              "      <td>228</td>\n",
              "      <td>5</td>\n",
              "    </tr>\n",
              "    <tr>\n",
              "      <th>2</th>\n",
              "      <td>641</td>\n",
              "      <td>401</td>\n",
              "      <td>4</td>\n",
              "    </tr>\n",
              "    <tr>\n",
              "      <th>3</th>\n",
              "      <td>312</td>\n",
              "      <td>98</td>\n",
              "      <td>4</td>\n",
              "    </tr>\n",
              "    <tr>\n",
              "      <th>4</th>\n",
              "      <td>58</td>\n",
              "      <td>504</td>\n",
              "      <td>5</td>\n",
              "    </tr>\n",
              "  </tbody>\n",
              "</table>\n",
              "</div>\n",
              "      <button class=\"colab-df-convert\" onclick=\"convertToInteractive('df-d227c3e0-e764-480e-9847-d0b44c81828a')\"\n",
              "              title=\"Convert this dataframe to an interactive table.\"\n",
              "              style=\"display:none;\">\n",
              "        \n",
              "  <svg xmlns=\"http://www.w3.org/2000/svg\" height=\"24px\"viewBox=\"0 0 24 24\"\n",
              "       width=\"24px\">\n",
              "    <path d=\"M0 0h24v24H0V0z\" fill=\"none\"/>\n",
              "    <path d=\"M18.56 5.44l.94 2.06.94-2.06 2.06-.94-2.06-.94-.94-2.06-.94 2.06-2.06.94zm-11 1L8.5 8.5l.94-2.06 2.06-.94-2.06-.94L8.5 2.5l-.94 2.06-2.06.94zm10 10l.94 2.06.94-2.06 2.06-.94-2.06-.94-.94-2.06-.94 2.06-2.06.94z\"/><path d=\"M17.41 7.96l-1.37-1.37c-.4-.4-.92-.59-1.43-.59-.52 0-1.04.2-1.43.59L10.3 9.45l-7.72 7.72c-.78.78-.78 2.05 0 2.83L4 21.41c.39.39.9.59 1.41.59.51 0 1.02-.2 1.41-.59l7.78-7.78 2.81-2.81c.8-.78.8-2.07 0-2.86zM5.41 20L4 18.59l7.72-7.72 1.47 1.35L5.41 20z\"/>\n",
              "  </svg>\n",
              "      </button>\n",
              "      \n",
              "  <style>\n",
              "    .colab-df-container {\n",
              "      display:flex;\n",
              "      flex-wrap:wrap;\n",
              "      gap: 12px;\n",
              "    }\n",
              "\n",
              "    .colab-df-convert {\n",
              "      background-color: #E8F0FE;\n",
              "      border: none;\n",
              "      border-radius: 50%;\n",
              "      cursor: pointer;\n",
              "      display: none;\n",
              "      fill: #1967D2;\n",
              "      height: 32px;\n",
              "      padding: 0 0 0 0;\n",
              "      width: 32px;\n",
              "    }\n",
              "\n",
              "    .colab-df-convert:hover {\n",
              "      background-color: #E2EBFA;\n",
              "      box-shadow: 0px 1px 2px rgba(60, 64, 67, 0.3), 0px 1px 3px 1px rgba(60, 64, 67, 0.15);\n",
              "      fill: #174EA6;\n",
              "    }\n",
              "\n",
              "    [theme=dark] .colab-df-convert {\n",
              "      background-color: #3B4455;\n",
              "      fill: #D2E3FC;\n",
              "    }\n",
              "\n",
              "    [theme=dark] .colab-df-convert:hover {\n",
              "      background-color: #434B5C;\n",
              "      box-shadow: 0px 1px 3px 1px rgba(0, 0, 0, 0.15);\n",
              "      filter: drop-shadow(0px 1px 2px rgba(0, 0, 0, 0.3));\n",
              "      fill: #FFFFFF;\n",
              "    }\n",
              "  </style>\n",
              "\n",
              "      <script>\n",
              "        const buttonEl =\n",
              "          document.querySelector('#df-d227c3e0-e764-480e-9847-d0b44c81828a button.colab-df-convert');\n",
              "        buttonEl.style.display =\n",
              "          google.colab.kernel.accessAllowed ? 'block' : 'none';\n",
              "\n",
              "        async function convertToInteractive(key) {\n",
              "          const element = document.querySelector('#df-d227c3e0-e764-480e-9847-d0b44c81828a');\n",
              "          const dataTable =\n",
              "            await google.colab.kernel.invokeFunction('convertToInteractive',\n",
              "                                                     [key], {});\n",
              "          if (!dataTable) return;\n",
              "\n",
              "          const docLinkHtml = 'Like what you see? Visit the ' +\n",
              "            '<a target=\"_blank\" href=https://colab.research.google.com/notebooks/data_table.ipynb>data table notebook</a>'\n",
              "            + ' to learn more about interactive tables.';\n",
              "          element.innerHTML = '';\n",
              "          dataTable['output_type'] = 'display_data';\n",
              "          await google.colab.output.renderOutput(dataTable, element);\n",
              "          const docLink = document.createElement('div');\n",
              "          docLink.innerHTML = docLinkHtml;\n",
              "          element.appendChild(docLink);\n",
              "        }\n",
              "      </script>\n",
              "    </div>\n",
              "  </div>\n",
              "  "
            ]
          },
          "metadata": {},
          "execution_count": 1602
        }
      ]
    },
    {
      "cell_type": "markdown",
      "metadata": {
        "id": "mvB8SDS_hW03"
      },
      "source": [
        "<font color='dark pink'>Creating  adjacency matrix </font>"
      ]
    },
    {
      "cell_type": "code",
      "metadata": {
        "id": "t44MNT40hZQW"
      },
      "source": [
        "from scipy.sparse import csr_matrix\n",
        "\n",
        "adjacency_matrix = csr_matrix((data['rating'].values,(data['user_id'].values,data['item_id'].values)))\n"
      ],
      "execution_count": null,
      "outputs": []
    },
    {
      "cell_type": "markdown",
      "metadata": {
        "id": "4acJD4ujEtD6"
      },
      "source": [
        "<font color='cyan'>Grader function - 1</font>"
      ]
    },
    {
      "cell_type": "code",
      "metadata": {
        "id": "2QuTzFBREsDV",
        "colab": {
          "base_uri": "https://localhost:8080/"
        },
        "outputId": "0942aff4-eae0-49c7-ae5b-b6ac694e7afa"
      },
      "source": [
        "def grader_matrix(matrix):\n",
        "  assert(matrix.shape==(943,1681))\n",
        "  return True\n",
        "grader_matrix(adjacency_matrix)"
      ],
      "execution_count": null,
      "outputs": [
        {
          "output_type": "execute_result",
          "data": {
            "text/plain": [
              "True"
            ]
          },
          "metadata": {},
          "execution_count": 1604
        }
      ]
    },
    {
      "cell_type": "markdown",
      "metadata": {
        "id": "gXDf1RCUBsYN"
      },
      "source": [
        "<font color='dark pink'> SVD decompostion</font>"
      ]
    },
    {
      "cell_type": "code",
      "metadata": {
        "id": "ZYnsKBmFEIg3",
        "colab": {
          "base_uri": "https://localhost:8080/"
        },
        "outputId": "61dc35cc-38fd-49f3-d504-91c6e47dcce0"
      },
      "source": [
        "from sklearn.utils.extmath import randomized_svd\n",
        "import numpy as np \n",
        "U, Sigma, VT = randomized_svd(adjacency_matrix, n_components=5,n_iter=5, random_state=None)\n",
        "print(U.shape)\n",
        "print(Sigma.shape)\n",
        "print(VT.shape)\n",
        "U"
      ],
      "execution_count": null,
      "outputs": [
        {
          "output_type": "stream",
          "name": "stdout",
          "text": [
            "(943, 5)\n",
            "(5,)\n",
            "(5, 1681)\n"
          ]
        },
        {
          "output_type": "execute_result",
          "data": {
            "text/plain": [
              "array([[ 0.0662257 ,  0.00788807, -0.01253138, -0.0861225 ,  0.02480304],\n",
              "       [ 0.01364432, -0.04889496,  0.05655369,  0.01579571, -0.01205521],\n",
              "       [ 0.00543826, -0.02512786,  0.02002754,  0.03285407,  0.03508084],\n",
              "       ...,\n",
              "       [ 0.00738924, -0.02597368,  0.00634335, -0.01707454, -0.00739067],\n",
              "       [ 0.02499924,  0.00447801,  0.02605652,  0.07734072, -0.0007585 ],\n",
              "       [ 0.04337341, -0.00281476, -0.06077793, -0.03158913,  0.03984089]])"
            ]
          },
          "metadata": {},
          "execution_count": 1605
        }
      ]
    },
    {
      "cell_type": "markdown",
      "metadata": {
        "id": "83Vh4NoO_JyU"
      },
      "source": [
        "<font color='dark yellow'>Computing mean of ratings</font>"
      ]
    },
    {
      "cell_type": "code",
      "metadata": {
        "id": "cBHuCn2QSEnl"
      },
      "source": [
        "from sklearn.utils import axis0_safe_slice\n",
        "def m_u(ratings):\n",
        "    '''In this function, we will compute mean for all the ratings'''\n",
        "    mean_rating=ratings.mean(axis=0)\n",
        "\n",
        "    return mean_rating"
      ],
      "execution_count": null,
      "outputs": []
    },
    {
      "cell_type": "markdown",
      "metadata": {
        "id": "76ooYQIdG_tf"
      },
      "source": [
        "<font color='cyan'>Grader function -2 </font>"
      ]
    },
    {
      "cell_type": "code",
      "metadata": {
        "id": "TZy1m67oG9r9",
        "colab": {
          "base_uri": "https://localhost:8080/"
        },
        "outputId": "45289efc-8fc2-4fd6-fa0a-12839398153c"
      },
      "source": [
        "def grader_mean(mu):\n",
        "  assert(np.round(mu,3)==3.529)\n",
        "  return True\n",
        "mu=m_u(data['rating'])\n",
        "grader_mean(mu)"
      ],
      "execution_count": null,
      "outputs": [
        {
          "output_type": "execute_result",
          "data": {
            "text/plain": [
              "True"
            ]
          },
          "metadata": {},
          "execution_count": 1607
        }
      ]
    },
    {
      "cell_type": "markdown",
      "metadata": {
        "id": "qSvAW1X94g3G"
      },
      "source": [
        "<font color='dark yellow'>Initialising $B_{i}$ and $C_{j}$"
      ]
    },
    {
      "cell_type": "code",
      "metadata": {
        "id": "AyEJqPka4lBW"
      },
      "source": [
        "\n",
        "def initialize(dim): #This function helps to initilise the user bias and item bias wich will be helping to predict the ratings\n",
        "    value=np.zeros_like(dim,dtype=float)\n",
        "\n",
        "    return value\n",
        "    \n",
        "\n"
      ],
      "execution_count": null,
      "outputs": []
    },
    {
      "cell_type": "code",
      "source": [
        "dim1=adjacency_matrix.T[:].toarray()[0]\n",
        "b_i=initialize(dim1)\n",
        "\n",
        "dim2=adjacency_matrix[:].toarray()[0]\n",
        "c_j=initialize(dim2)\n",
        "dim2.shape\n"
      ],
      "metadata": {
        "colab": {
          "base_uri": "https://localhost:8080/"
        },
        "id": "msg0FcN7Hq6P",
        "outputId": "51a3725d-f83a-4c41-9f69-90a76e2c8dbd"
      },
      "execution_count": null,
      "outputs": [
        {
          "output_type": "execute_result",
          "data": {
            "text/plain": [
              "(1681,)"
            ]
          },
          "metadata": {},
          "execution_count": 1609
        }
      ]
    },
    {
      "cell_type": "markdown",
      "metadata": {
        "id": "nfPJ3_h6JIkI"
      },
      "source": [
        "<font color='cyan'>Grader function -3 </font>"
      ]
    },
    {
      "cell_type": "code",
      "metadata": {
        "id": "dQhiNjw0Hz4m",
        "colab": {
          "base_uri": "https://localhost:8080/"
        },
        "outputId": "41d4561c-76d0-462a-cbe0-d8a04c6f522c"
      },
      "source": [
        "def grader_dim(b_i,c_j):\n",
        "  assert(len(b_i)==943 and np.sum(b_i)==0)\n",
        "  assert(len(c_j)==1681 and np.sum(c_j)==0)\n",
        "  return True\n",
        "grader_dim(b_i,c_j)"
      ],
      "execution_count": null,
      "outputs": [
        {
          "output_type": "execute_result",
          "data": {
            "text/plain": [
              "True"
            ]
          },
          "metadata": {},
          "execution_count": 1610
        }
      ]
    },
    {
      "cell_type": "markdown",
      "metadata": {
        "id": "DTDK4ZR18MrZ"
      },
      "source": [
        "<font color='dark yellow'>Computing dL/db_i</font>"
      ]
    },
    {
      "cell_type": "code",
      "metadata": {
        "id": "3NFzVC1N8S4L"
      },
      "source": [
        "def derivative_db(user_id,item_id,rating,U,V,mu,alpha):\n",
        "    '''In this function, we will compute dL/db_i'''\n",
        "    return (alpha*2*b_i[user_id])-2*(rating-mu-b_i[user_id]-c_j[item_id]-np.dot(U[user_id],V.T[item_id]))\n"
      ],
      "execution_count": null,
      "outputs": []
    },
    {
      "cell_type": "markdown",
      "metadata": {
        "id": "ilISrTeQ0f0v"
      },
      "source": [
        "<font color='cyan'>Grader function -4 </font>"
      ]
    },
    {
      "cell_type": "code",
      "metadata": {
        "id": "Wt5ixEVZ043U",
        "colab": {
          "base_uri": "https://localhost:8080/"
        },
        "outputId": "24528585-37d8-40ad-d02c-4a184ccffdca"
      },
      "source": [
        "def grader_db(value):\n",
        "    assert(np.round(value,3)==-0.931)\n",
        "    return True\n",
        "U1, Sigma, V1 = randomized_svd(adjacency_matrix, n_components=2,n_iter=5, random_state=24)\n",
        "# Please don't change random state\n",
        "# Here we are considering n_componets = 2 for our convinence\n",
        "alpha=0.01 \n",
        "value=derivative_db(312,98,4,U1,V1,mu,alpha)\n",
        "grader_db(value)"
      ],
      "execution_count": null,
      "outputs": [
        {
          "output_type": "execute_result",
          "data": {
            "text/plain": [
              "True"
            ]
          },
          "metadata": {},
          "execution_count": 1612
        }
      ]
    },
    {
      "cell_type": "markdown",
      "metadata": {
        "id": "1Kp0hC_b9v60"
      },
      "source": [
        "<font color='dark pink'>Computing dL/dc_j</font>\n",
        "\n",
        "\n",
        "\n"
      ]
    },
    {
      "cell_type": "code",
      "metadata": {
        "id": "FAtSYMrc9UqJ"
      },
      "source": [
        "def derivative_dc(user_id,item_id,rating,U,V,mu, alpha):\n",
        "    '''In this function, we will compute dL/dc_j'''\n",
        "    return (alpha*2*c_j[item_id])-2*(rating-mu-b_i[user_id]-c_j[item_id]-np.dot(U[user_id],V.T[item_id]))\n"
      ],
      "execution_count": null,
      "outputs": []
    },
    {
      "cell_type": "markdown",
      "metadata": {
        "id": "lxkAm8aH1SBF"
      },
      "source": [
        "<font color='cyan'>Grader function - 5 </font>"
      ]
    },
    {
      "cell_type": "code",
      "metadata": {
        "id": "RaIN9yie1US8",
        "colab": {
          "base_uri": "https://localhost:8080/"
        },
        "outputId": "3bd09843-ea3e-4456-b80a-2a37cca16a2e"
      },
      "source": [
        "def grader_dc(value):\n",
        "    assert(np.round(value,3)==-2.929)\n",
        "    return True\n",
        "U1, Sigma, V1 = randomized_svd(adjacency_matrix, n_components=2,n_iter=5, random_state=24)\n",
        "# Please don't change random state\n",
        "# Here we are considering n_componets = 2 for our convinence\n",
        "r=0.01 \n",
        "value=derivative_dc(58,504,5,U1,V1,mu,r)\n",
        "grader_dc(value)"
      ],
      "execution_count": null,
      "outputs": [
        {
          "output_type": "execute_result",
          "data": {
            "text/plain": [
              "True"
            ]
          },
          "metadata": {},
          "execution_count": 1614
        }
      ]
    },
    {
      "cell_type": "markdown",
      "metadata": {
        "id": "lg5XNbDWCIKI"
      },
      "source": [
        "<font color='dark yellow'>Computing MSE (mean squared error) for predicted ratings</font>\n"
      ]
    },
    {
      "cell_type": "code",
      "source": [
        "\n",
        "from sklearn.metrics import mean_squared_error\n",
        "alpha=0.001\n",
        "lr=0.001\n",
        "epoch=30\n",
        "mse=[]\n",
        "for k in range(epoch):\n",
        "  pred_list=[]\n",
        "  for i,j,rating in zip(data['user_id'].values,data['item_id'].values,data['rating'].values):\n",
        "    db_=derivative_db(i,j,rating,U,VT,mu,alpha)\n",
        "    dc_=derivative_dc(i,j,rating,U,VT,mu,alpha)\n",
        "    b_i[i]=b_i[i]-(lr*db_)\n",
        "    c_j[j]=c_j[j]-(lr*dc_)\n",
        "    y_pred=mu+b_i[i]+c_j[j]+np.dot(U[i],VT.T[j])\n",
        "    pred_list.append(y_pred)\n",
        "  mse.append(mean_squared_error(data['rating'].values,pred_list))\n",
        "\n",
        "\n"
      ],
      "metadata": {
        "id": "fa2lxEeT49sC"
      },
      "execution_count": null,
      "outputs": []
    },
    {
      "cell_type": "markdown",
      "metadata": {
        "id": "NeWAGkT6C9kq"
      },
      "source": [
        "<br>"
      ]
    },
    {
      "cell_type": "code",
      "metadata": {
        "id": "c1FTc39gDdti"
      },
      "source": [
        "new_data=pd.read_csv('/content/user_info.csv.txt')"
      ],
      "execution_count": null,
      "outputs": []
    },
    {
      "cell_type": "code",
      "metadata": {
        "id": "s7e_3BBsHpWO",
        "colab": {
          "base_uri": "https://localhost:8080/"
        },
        "outputId": "28075aec-a54e-4e69-868e-f364cd843a21"
      },
      "source": [
        "\n",
        "X=new_data.drop(['is_male'],axis=1)\n",
        "Y=new_data['is_male']\n",
        "print('shape of user info data is',new_data.shape)\n",
        "print('Shape of given input data is',X.shape)\n",
        "print('Shape of given out put data is',Y.shape)\n",
        "print('Shape of user matrix with diffrent dimensions is',U.shape)"
      ],
      "execution_count": null,
      "outputs": [
        {
          "output_type": "stream",
          "name": "stdout",
          "text": [
            "shape of user info data is (943, 4)\n",
            "Shape of given input data is (943, 3)\n",
            "Shape of given out put data is (943,)\n",
            "Shape of user matrix with diffrent dimensions is (943, 5)\n"
          ]
        }
      ]
    },
    {
      "cell_type": "markdown",
      "source": [
        "<font color='dark pink'>checking correlation of the given input variables  </font>"
      ],
      "metadata": {
        "id": "IrHRvvv6BDyE"
      }
    },
    {
      "cell_type": "code",
      "metadata": {
        "id": "M3K5ZHmSHpWO",
        "colab": {
          "base_uri": "https://localhost:8080/",
          "height": 300
        },
        "outputId": "2e9a955d-3d4b-4b39-90dc-f5df1109b906"
      },
      "source": [
        "\n",
        "X_new=pd.concat([X,pd.DataFrame(U)],axis=1)\n",
        "X_new.corr()\n"
      ],
      "execution_count": null,
      "outputs": [
        {
          "output_type": "execute_result",
          "data": {
            "text/plain": [
              "               user_id       age  orig_user_id         0         1         2  \\\n",
              "user_id       1.000000  0.003181      1.000000 -0.042386 -0.025564 -0.021899   \n",
              "age           0.003181  1.000000      0.003181 -0.090003  0.217358  0.306089   \n",
              "orig_user_id  1.000000  0.003181      1.000000 -0.042386 -0.025564 -0.021899   \n",
              "0            -0.042386 -0.090003     -0.042386  1.000000  0.391237 -0.297107   \n",
              "1            -0.025564  0.217358     -0.025564  0.391237  1.000000  0.085305   \n",
              "2            -0.021899  0.306089     -0.021899 -0.297107  0.085305  1.000000   \n",
              "3             0.070066  0.196873      0.070066 -0.149629  0.042961 -0.032625   \n",
              "4            -0.010777 -0.116516     -0.010777  0.002220 -0.000638  0.000484   \n",
              "\n",
              "                     3         4  \n",
              "user_id       0.070066 -0.010777  \n",
              "age           0.196873 -0.116516  \n",
              "orig_user_id  0.070066 -0.010777  \n",
              "0            -0.149629  0.002220  \n",
              "1             0.042961 -0.000638  \n",
              "2            -0.032625  0.000484  \n",
              "3             1.000000  0.000244  \n",
              "4             0.000244  1.000000  "
            ],
            "text/html": [
              "\n",
              "  <div id=\"df-df8d7f81-3ea4-4867-a28d-7a6e176aba57\">\n",
              "    <div class=\"colab-df-container\">\n",
              "      <div>\n",
              "<style scoped>\n",
              "    .dataframe tbody tr th:only-of-type {\n",
              "        vertical-align: middle;\n",
              "    }\n",
              "\n",
              "    .dataframe tbody tr th {\n",
              "        vertical-align: top;\n",
              "    }\n",
              "\n",
              "    .dataframe thead th {\n",
              "        text-align: right;\n",
              "    }\n",
              "</style>\n",
              "<table border=\"1\" class=\"dataframe\">\n",
              "  <thead>\n",
              "    <tr style=\"text-align: right;\">\n",
              "      <th></th>\n",
              "      <th>user_id</th>\n",
              "      <th>age</th>\n",
              "      <th>orig_user_id</th>\n",
              "      <th>0</th>\n",
              "      <th>1</th>\n",
              "      <th>2</th>\n",
              "      <th>3</th>\n",
              "      <th>4</th>\n",
              "    </tr>\n",
              "  </thead>\n",
              "  <tbody>\n",
              "    <tr>\n",
              "      <th>user_id</th>\n",
              "      <td>1.000000</td>\n",
              "      <td>0.003181</td>\n",
              "      <td>1.000000</td>\n",
              "      <td>-0.042386</td>\n",
              "      <td>-0.025564</td>\n",
              "      <td>-0.021899</td>\n",
              "      <td>0.070066</td>\n",
              "      <td>-0.010777</td>\n",
              "    </tr>\n",
              "    <tr>\n",
              "      <th>age</th>\n",
              "      <td>0.003181</td>\n",
              "      <td>1.000000</td>\n",
              "      <td>0.003181</td>\n",
              "      <td>-0.090003</td>\n",
              "      <td>0.217358</td>\n",
              "      <td>0.306089</td>\n",
              "      <td>0.196873</td>\n",
              "      <td>-0.116516</td>\n",
              "    </tr>\n",
              "    <tr>\n",
              "      <th>orig_user_id</th>\n",
              "      <td>1.000000</td>\n",
              "      <td>0.003181</td>\n",
              "      <td>1.000000</td>\n",
              "      <td>-0.042386</td>\n",
              "      <td>-0.025564</td>\n",
              "      <td>-0.021899</td>\n",
              "      <td>0.070066</td>\n",
              "      <td>-0.010777</td>\n",
              "    </tr>\n",
              "    <tr>\n",
              "      <th>0</th>\n",
              "      <td>-0.042386</td>\n",
              "      <td>-0.090003</td>\n",
              "      <td>-0.042386</td>\n",
              "      <td>1.000000</td>\n",
              "      <td>0.391237</td>\n",
              "      <td>-0.297107</td>\n",
              "      <td>-0.149629</td>\n",
              "      <td>0.002220</td>\n",
              "    </tr>\n",
              "    <tr>\n",
              "      <th>1</th>\n",
              "      <td>-0.025564</td>\n",
              "      <td>0.217358</td>\n",
              "      <td>-0.025564</td>\n",
              "      <td>0.391237</td>\n",
              "      <td>1.000000</td>\n",
              "      <td>0.085305</td>\n",
              "      <td>0.042961</td>\n",
              "      <td>-0.000638</td>\n",
              "    </tr>\n",
              "    <tr>\n",
              "      <th>2</th>\n",
              "      <td>-0.021899</td>\n",
              "      <td>0.306089</td>\n",
              "      <td>-0.021899</td>\n",
              "      <td>-0.297107</td>\n",
              "      <td>0.085305</td>\n",
              "      <td>1.000000</td>\n",
              "      <td>-0.032625</td>\n",
              "      <td>0.000484</td>\n",
              "    </tr>\n",
              "    <tr>\n",
              "      <th>3</th>\n",
              "      <td>0.070066</td>\n",
              "      <td>0.196873</td>\n",
              "      <td>0.070066</td>\n",
              "      <td>-0.149629</td>\n",
              "      <td>0.042961</td>\n",
              "      <td>-0.032625</td>\n",
              "      <td>1.000000</td>\n",
              "      <td>0.000244</td>\n",
              "    </tr>\n",
              "    <tr>\n",
              "      <th>4</th>\n",
              "      <td>-0.010777</td>\n",
              "      <td>-0.116516</td>\n",
              "      <td>-0.010777</td>\n",
              "      <td>0.002220</td>\n",
              "      <td>-0.000638</td>\n",
              "      <td>0.000484</td>\n",
              "      <td>0.000244</td>\n",
              "      <td>1.000000</td>\n",
              "    </tr>\n",
              "  </tbody>\n",
              "</table>\n",
              "</div>\n",
              "      <button class=\"colab-df-convert\" onclick=\"convertToInteractive('df-df8d7f81-3ea4-4867-a28d-7a6e176aba57')\"\n",
              "              title=\"Convert this dataframe to an interactive table.\"\n",
              "              style=\"display:none;\">\n",
              "        \n",
              "  <svg xmlns=\"http://www.w3.org/2000/svg\" height=\"24px\"viewBox=\"0 0 24 24\"\n",
              "       width=\"24px\">\n",
              "    <path d=\"M0 0h24v24H0V0z\" fill=\"none\"/>\n",
              "    <path d=\"M18.56 5.44l.94 2.06.94-2.06 2.06-.94-2.06-.94-.94-2.06-.94 2.06-2.06.94zm-11 1L8.5 8.5l.94-2.06 2.06-.94-2.06-.94L8.5 2.5l-.94 2.06-2.06.94zm10 10l.94 2.06.94-2.06 2.06-.94-2.06-.94-.94-2.06-.94 2.06-2.06.94z\"/><path d=\"M17.41 7.96l-1.37-1.37c-.4-.4-.92-.59-1.43-.59-.52 0-1.04.2-1.43.59L10.3 9.45l-7.72 7.72c-.78.78-.78 2.05 0 2.83L4 21.41c.39.39.9.59 1.41.59.51 0 1.02-.2 1.41-.59l7.78-7.78 2.81-2.81c.8-.78.8-2.07 0-2.86zM5.41 20L4 18.59l7.72-7.72 1.47 1.35L5.41 20z\"/>\n",
              "  </svg>\n",
              "      </button>\n",
              "      \n",
              "  <style>\n",
              "    .colab-df-container {\n",
              "      display:flex;\n",
              "      flex-wrap:wrap;\n",
              "      gap: 12px;\n",
              "    }\n",
              "\n",
              "    .colab-df-convert {\n",
              "      background-color: #E8F0FE;\n",
              "      border: none;\n",
              "      border-radius: 50%;\n",
              "      cursor: pointer;\n",
              "      display: none;\n",
              "      fill: #1967D2;\n",
              "      height: 32px;\n",
              "      padding: 0 0 0 0;\n",
              "      width: 32px;\n",
              "    }\n",
              "\n",
              "    .colab-df-convert:hover {\n",
              "      background-color: #E2EBFA;\n",
              "      box-shadow: 0px 1px 2px rgba(60, 64, 67, 0.3), 0px 1px 3px 1px rgba(60, 64, 67, 0.15);\n",
              "      fill: #174EA6;\n",
              "    }\n",
              "\n",
              "    [theme=dark] .colab-df-convert {\n",
              "      background-color: #3B4455;\n",
              "      fill: #D2E3FC;\n",
              "    }\n",
              "\n",
              "    [theme=dark] .colab-df-convert:hover {\n",
              "      background-color: #434B5C;\n",
              "      box-shadow: 0px 1px 3px 1px rgba(0, 0, 0, 0.15);\n",
              "      filter: drop-shadow(0px 1px 2px rgba(0, 0, 0, 0.3));\n",
              "      fill: #FFFFFF;\n",
              "    }\n",
              "  </style>\n",
              "\n",
              "      <script>\n",
              "        const buttonEl =\n",
              "          document.querySelector('#df-df8d7f81-3ea4-4867-a28d-7a6e176aba57 button.colab-df-convert');\n",
              "        buttonEl.style.display =\n",
              "          google.colab.kernel.accessAllowed ? 'block' : 'none';\n",
              "\n",
              "        async function convertToInteractive(key) {\n",
              "          const element = document.querySelector('#df-df8d7f81-3ea4-4867-a28d-7a6e176aba57');\n",
              "          const dataTable =\n",
              "            await google.colab.kernel.invokeFunction('convertToInteractive',\n",
              "                                                     [key], {});\n",
              "          if (!dataTable) return;\n",
              "\n",
              "          const docLinkHtml = 'Like what you see? Visit the ' +\n",
              "            '<a target=\"_blank\" href=https://colab.research.google.com/notebooks/data_table.ipynb>data table notebook</a>'\n",
              "            + ' to learn more about interactive tables.';\n",
              "          element.innerHTML = '';\n",
              "          dataTable['output_type'] = 'display_data';\n",
              "          await google.colab.output.renderOutput(dataTable, element);\n",
              "          const docLink = document.createElement('div');\n",
              "          docLink.innerHTML = docLinkHtml;\n",
              "          element.appendChild(docLink);\n",
              "        }\n",
              "      </script>\n",
              "    </div>\n",
              "  </div>\n",
              "  "
            ]
          },
          "metadata": {},
          "execution_count": 1620
        }
      ]
    },
    {
      "cell_type": "markdown",
      "source": [
        "<font color='dark yellow'>dropping orig_user_id column as its highly corelated and same as user_id </font>"
      ],
      "metadata": {
        "id": "MRJBcQ-VBUzw"
      }
    },
    {
      "cell_type": "code",
      "source": [
        "X_new_new=X_new.drop(['orig_user_id'],axis=1)"
      ],
      "metadata": {
        "id": "IwaFkj0kqR2J"
      },
      "execution_count": null,
      "outputs": []
    },
    {
      "cell_type": "markdown",
      "source": [
        "<font color='dark yellow'>Building logistic regression Model </font>"
      ],
      "metadata": {
        "id": "lQssY7YgB_7W"
      }
    },
    {
      "cell_type": "code",
      "source": [
        "from sklearn.linear_model import LogisticRegression as lr\n",
        "clf=lr(random_state=0,C=100).fit(X_new_new,Y)\n",
        "y_pred_new=clf.predict(X_new_new)\n"
      ],
      "metadata": {
        "id": "vq2ybGKRlI8N",
        "colab": {
          "base_uri": "https://localhost:8080/"
        },
        "outputId": "bbbaadee-a0ba-4671-8a82-031d3103567e"
      },
      "execution_count": null,
      "outputs": [
        {
          "output_type": "stream",
          "name": "stderr",
          "text": [
            "/usr/local/lib/python3.7/dist-packages/sklearn/utils/validation.py:1692: FutureWarning: Feature names only support names that are all strings. Got feature names with dtypes: ['int', 'str']. An error will be raised in 1.2.\n",
            "  FutureWarning,\n",
            "/usr/local/lib/python3.7/dist-packages/sklearn/utils/validation.py:1692: FutureWarning: Feature names only support names that are all strings. Got feature names with dtypes: ['int', 'str']. An error will be raised in 1.2.\n",
            "  FutureWarning,\n"
          ]
        }
      ]
    },
    {
      "cell_type": "markdown",
      "source": [
        "<font color='dark yellow'>Building Confusion Matrix </font>"
      ],
      "metadata": {
        "id": "yYWKHkZW8oUE"
      }
    },
    {
      "cell_type": "code",
      "source": [
        "from sklearn.metrics import confusion_matrix\n",
        "import seaborn as sns\n",
        "CM=confusion_matrix(Y,y_pred_new)\n",
        "CM_matrix=pd.DataFrame(CM)\n",
        "\n",
        "\n",
        "ax1= plt.subplot();\n",
        "sns.heatmap(CM_matrix, annot=True,annot_kws={\"size\": 16}, fmt='g');\n",
        "ax1.set_xlabel('Predicted labels');\n",
        "ax1.set_ylabel('True labels'); \n",
        "ax1.set_ylim(2.0, 0)\n",
        "ax1.set_title('Confusion Matrix');\n",
        "ax1.xaxis.set_ticklabels(['Negative','Positive']); \n",
        "ax1.yaxis.set_ticklabels(['Negative','Positive']);\n",
        "plt.show()\n"
      ],
      "metadata": {
        "id": "_tw0pC8BCYeY",
        "colab": {
          "base_uri": "https://localhost:8080/",
          "height": 295
        },
        "outputId": "2dbdd4a7-0d83-4f25-c76b-b69b8a0606a6"
      },
      "execution_count": null,
      "outputs": [
        {
          "output_type": "display_data",
          "data": {
            "text/plain": [
              "<Figure size 432x288 with 2 Axes>"
            ],
            "image/png": "[encoded data removed]"
          },
          "metadata": {
            "needs_background": "light"
          }
        }
      ]
    },
    {
      "cell_type": "markdown",
      "source": [
        "<font color='dark yellow'>**OBSERVATION:** </font>\n",
        "\n",
        "\n",
        "1.   The model is a bias model for inverse regularisation C=100 \n",
        "2.   The model is predicting everything as postive\n",
        "3.   total false postive is 273\n",
        "4.   total true positive is 670\n",
        "5.   This model is using user component=5 for user matrix using randomized SVD\n",
        "\n",
        "\n",
        "\n",
        "\n"
      ],
      "metadata": {
        "id": "xWRTB86-FAXB"
      }
    },
    {
      "cell_type": "markdown",
      "source": [
        "# <font color='dark yellow'>Performing TASK 2 with increasing component for user matrix </font>"
      ],
      "metadata": {
        "id": "frjww4etGyIM"
      }
    },
    {
      "cell_type": "code",
      "source": [
        "# Changing number of componets to 15 for user matrix , we are considering 15 dimensions for each user \n",
        "\n",
        "from sklearn.utils.extmath import randomized_svd\n",
        "import numpy as np \n",
        "U1, Sigma1, VT1 = randomized_svd(adjacency_matrix, n_components=15,n_iter=5, random_state=None)\n",
        "print(U1.shape)\n",
        "print(Sigma.shape)\n",
        "print(VT1.shape)"
      ],
      "metadata": {
        "id": "QTRDm7oIHIB8",
        "colab": {
          "base_uri": "https://localhost:8080/"
        },
        "outputId": "cbc65822-3e03-41c7-8b62-95cc59c27eb6"
      },
      "execution_count": null,
      "outputs": [
        {
          "output_type": "stream",
          "name": "stdout",
          "text": [
            "(943, 15)\n",
            "(2,)\n",
            "(15, 1681)\n"
          ]
        }
      ]
    },
    {
      "cell_type": "code",
      "source": [
        "X_component_15=X.drop(['orig_user_id'],axis=1)\n",
        "X_component_new=pd.concat([X_component_15,pd.DataFrame(U1)],axis=1)\n"
      ],
      "metadata": {
        "id": "lbq3mJ4oHwGq"
      },
      "execution_count": null,
      "outputs": []
    },
    {
      "cell_type": "markdown",
      "source": [
        "<font color='dark yellow'>Building logistic regression Model </font>"
      ],
      "metadata": {
        "id": "iMQIgAiSIzgW"
      }
    },
    {
      "cell_type": "code",
      "source": [
        "from sklearn.linear_model import LogisticRegression as lr\n",
        "clf_new=lr(random_state=0,C=100).fit(X_component_new,Y)\n",
        "y_pred_component_new=clf_new.predict(X_component_new)"
      ],
      "metadata": {
        "id": "1-rJYx5IHwdB",
        "colab": {
          "base_uri": "https://localhost:8080/"
        },
        "outputId": "1995ca5f-a90a-4f40-b2d2-867cd612c3be"
      },
      "execution_count": null,
      "outputs": [
        {
          "output_type": "stream",
          "name": "stderr",
          "text": [
            "/usr/local/lib/python3.7/dist-packages/sklearn/utils/validation.py:1692: FutureWarning: Feature names only support names that are all strings. Got feature names with dtypes: ['int', 'str']. An error will be raised in 1.2.\n",
            "  FutureWarning,\n",
            "/usr/local/lib/python3.7/dist-packages/sklearn/utils/validation.py:1692: FutureWarning: Feature names only support names that are all strings. Got feature names with dtypes: ['int', 'str']. An error will be raised in 1.2.\n",
            "  FutureWarning,\n"
          ]
        }
      ]
    },
    {
      "cell_type": "markdown",
      "source": [
        "<font color='dark yellow'>Building Confusion Matrix </font>"
      ],
      "metadata": {
        "id": "uspgDIDlJKut"
      }
    },
    {
      "cell_type": "code",
      "source": [
        "from sklearn.metrics import confusion_matrix\n",
        "import seaborn as sns\n",
        "CM_new=confusion_matrix(Y,y_pred_component_new)\n",
        "CM_matrix_new=pd.DataFrame(CM_new)\n",
        "\n",
        "\n",
        "ax1= plt.subplot();\n",
        "sns.heatmap(CM_matrix_new, annot=True,annot_kws={\"size\": 16}, fmt='g');\n",
        "ax1.set_xlabel('Predicted labels');\n",
        "ax1.set_ylabel('True labels'); \n",
        "ax1.set_ylim(2.0, 0)\n",
        "ax1.set_title('Confusion Matrix');\n",
        "ax1.xaxis.set_ticklabels(['Negative','Positive']); \n",
        "ax1.yaxis.set_ticklabels(['Negative','Positive']);\n",
        "plt.show()"
      ],
      "metadata": {
        "id": "RbWEgTu1JMrx",
        "colab": {
          "base_uri": "https://localhost:8080/",
          "height": 295
        },
        "outputId": "85e80cfa-ffa9-456e-cb6c-924275a430f3"
      },
      "execution_count": null,
      "outputs": [
        {
          "output_type": "display_data",
          "data": {
            "text/plain": [
              "<Figure size 432x288 with 2 Axes>"
            ],
            "image/png": "[encoded data removed]"
          },
          "metadata": {
            "needs_background": "light"
          }
        }
      ]
    },
    {
      "cell_type": "markdown",
      "source": [
        "<font color='dark yellow'>**OBSERVATION:** </font>\n",
        "\n",
        "\n",
        "1.   The model performance improved a bit from biasing for inverse regularisation C=100 \n",
        "2.   total false postive is 207 and true postive is 647\n",
        "3.   total true negative is 66 and false negative is 23\n",
        "4.   This model is using user component=15 for user matrix using randomized SVD\n"
      ],
      "metadata": {
        "id": "cpJ2lZ47KKY2"
      }
    }
  ]
}